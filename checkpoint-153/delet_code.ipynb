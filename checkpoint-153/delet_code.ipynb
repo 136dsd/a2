{
 "cells": [
  {
   "cell_type": "code",
   "execution_count": null,
   "id": "5a098044-c5ff-46cd-b11c-254dbd1ae71d",
   "metadata": {},
   "outputs": [],
   "source": [
    "import os\n",
    "import shutil\n",
    " \n",
    "def remove_folder(folder_path):\n",
    "    # 检查文件夹是否存在\n",
    "    if not os.path.exists(folder_path):\n",
    "        print(f\"文件夹 {folder_path} 不存在。\")\n",
    "        return\n",
    " \n",
    "    # 检查提供的路径是否是一个文件夹\n",
    "    if not os.path.isdir(folder_path):\n",
    "        print(f\"路径 {folder_path} 不是一个文件夹。\")\n",
    "        return\n",
    " \n",
    "    # 尝试删除文件夹及其所有内容\n",
    "    try:\n",
    "        shutil.rmtree(folder_path)\n",
    "        print(f\"文件夹 {folder_path} 及其内容已被成功删除。\")\n",
    "    except Exception as e:\n",
    "        print(f\"删除文件夹时发生错误：{e}\")\n",
    " \n",
    "# 使用示例\n",
    "folder_to_delete = './data/data_dcgan/celeba'\n",
    "remove_folder(folder_to_delete)"
   ]
  }
 ],
 "metadata": {
  "kernelspec": {
   "display_name": "Python 3 (ipykernel)",
   "language": "python",
   "name": "python3"
  },
  "language_info": {
   "codemirror_mode": {
    "name": "ipython",
    "version": 3
   },
   "file_extension": ".py",
   "mimetype": "text/x-python",
   "name": "python",
   "nbconvert_exporter": "python",
   "pygments_lexer": "ipython3",
   "version": "3.10.12"
  }
 },
 "nbformat": 4,
 "nbformat_minor": 5
}
